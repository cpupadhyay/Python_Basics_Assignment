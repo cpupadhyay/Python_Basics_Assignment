{
  "nbformat": 4,
  "nbformat_minor": 0,
  "metadata": {
    "colab": {
      "provenance": []
    },
    "kernelspec": {
      "name": "python3",
      "display_name": "Python 3"
    },
    "language_info": {
      "name": "python"
    }
  },
  "cells": [
    {
      "cell_type": "markdown",
      "source": [
        "# Python Basics Assignment"
      ],
      "metadata": {
        "id": "aJd7lqgzr3zq"
      }
    },
    {
      "cell_type": "markdown",
      "source": [
        "**1. What is Python, and why is it popular?**\n",
        "\n",
        "   -> What is Python?\n",
        "Python is a high-level, interpreted programming language known for its simplicity and readability. It was created by **Guido van Rossum** and released in **1991**. Python follows an easy-to-learn syntax that emphasizes code readability and allows developers to write fewer lines of code compared to other languages.\n",
        "\n",
        " Why is Python Popular?  \n",
        "Python's popularity is due to several key reasons:\n",
        "\n",
        " 1. Easy to Learn & Use – Python has a simple syntax similar to the English language, making it beginner-friendly.\n",
        " 2. Versatile & Flexible – It is used in various domains such as web development, data science, artificial intelligence, automation, and more.\n",
        " 3. Large Community Support – A vast community provides support, documentation, and libraries.\n",
        " 4. Extensive Libraries & Frameworks – Python offers powerful libraries like NumPy, Pandas, Matplotlib, TensorFlow, Flask, and Django, making development easier.\n",
        " 5. Cross-Platform Compatibility – Python can run on different operating systems like Windows, macOS, and Linux without modification.\n",
        " 6. Automation & Scripting – It is widely used for scripting tasks like web scraping, task automation, and process automation.\n",
        " 7. Strong in Data Science & AI – Python is the most preferred language for machine learning, deep learning, and data analytics.\n",
        "\n"
      ],
      "metadata": {
        "id": "cTblaxzcr-EN"
      }
    },
    {
      "cell_type": "markdown",
      "source": [
        "**2. What is an interpreter in Python?**\n",
        "\n",
        "   -> An interpreter in Python is a software program that executes Python code line by line, converting it into machine-readable instructions at runtime. Unlike compiled languages (like C or Java), Python does not require a separate compilation step; instead, the interpreter directly runs the script."
      ],
      "metadata": {
        "id": "WjO3pUJutHz5"
      }
    },
    {
      "cell_type": "code",
      "source": [
        "# 3. What are pre-defined keywords in Python ?\n",
        "'''  -> keywords in Python Pre-defined keywords in Python are reserved words that have special meanings and cannot be used as identifiers (variable names, function names, etc.). These keywords are an essential part of Python's syntax.\n",
        "\n",
        "List of Python Keywords are:'''\n",
        "\n",
        "import keyword\n",
        "print(keyword.kwlist)"
      ],
      "metadata": {
        "colab": {
          "base_uri": "https://localhost:8080/"
        },
        "collapsed": true,
        "id": "pDc5oI1Kt4aO",
        "outputId": "cfa599d9-04b8-4411-c1dd-bbddcd34c5df"
      },
      "execution_count": 1,
      "outputs": [
        {
          "output_type": "stream",
          "name": "stdout",
          "text": [
            "['False', 'None', 'True', 'and', 'as', 'assert', 'async', 'await', 'break', 'class', 'continue', 'def', 'del', 'elif', 'else', 'except', 'finally', 'for', 'from', 'global', 'if', 'import', 'in', 'is', 'lambda', 'nonlocal', 'not', 'or', 'pass', 'raise', 'return', 'try', 'while', 'with', 'yield']\n"
          ]
        }
      ]
    },
    {
      "cell_type": "markdown",
      "source": [
        "**4. Can keywords be used as variable names?**\n",
        "\n",
        "  -> No, keywords cannot be used as variable names in Python because they are reserved words that have special meanings in the language. Using a keyword as a variable name will result in a SyntaxError."
      ],
      "metadata": {
        "id": "XS3lbmUYusqo"
      }
    },
    {
      "cell_type": "markdown",
      "source": [
        "**5. What is mutability in Python?**\n",
        "   \n",
        "  -> Definition of Mutability in Python\n",
        "\n",
        "  Mutability in Python refers to the ability of an object to be modified after its creation.  \n",
        "\n",
        " - Mutable objects can be changed in place (e.g., `list`, `dict`, `set`).  \n",
        " - Immutable objects cannot be changed once created (e.g., `int`, `str`, `tuple`)."
      ],
      "metadata": {
        "id": "E_v-18Mou89M"
      }
    },
    {
      "cell_type": "markdown",
      "source": [
        "**6. Why are lists mutable, but tuples are immutable?**\n",
        "\n",
        "-> **Lists are mutable** because they allow modifications such as adding, removing, or changing elements without creating a new object. This is possible because lists are stored in memory as dynamic arrays, allowing in-place updates.  \n",
        "**Tuples are immutable** because they are designed to be fixed and hashable. Their memory allocation is optimized for performance, and any modification requires creating a new tuple instead of altering the existing one."
      ],
      "metadata": {
        "id": "SW0o_trGvhWY"
      }
    },
    {
      "cell_type": "markdown",
      "source": [
        "**7. What is the difference between “==” and “is” operators in Python?**\n",
        "\n",
        "  -> 1. **`==` (Equality Operator)**:  \n",
        "   - Compares the **values** of two objects.  \n",
        "   - Returns `True` if the values are the same, even if stored at different memory locations.  \n",
        "   \n",
        "2. **`is` (Identity Operator)**:  \n",
        "   - Compares the **memory location (identity)** of two objects.  \n",
        "   - Returns `True` only if both variables refer to the **same object** in memory."
      ],
      "metadata": {
        "id": "jk0inCA-w4Iq"
      }
    },
    {
      "cell_type": "markdown",
      "source": [
        "**8. What are logical operators in Python?**\n",
        "\n",
        "-> Logical operators are used to perform Boolean logic operations on expressions. Python has three logical operators:\n",
        "\n",
        "* and – Returns True if both conditions are True.\n",
        "* or – Returns True if at least one condition is True.\n",
        "* not – Returns the opposite Boolean value (True → False, False → True)."
      ],
      "metadata": {
        "id": "662JKwKmxmd4"
      }
    },
    {
      "cell_type": "markdown",
      "source": [
        "**9. What is type casting in Python?**\n",
        "\n",
        " -> **Type casting** in Python is the process of converting one data type into another. It allows changing data types explicitly using built-in functions."
      ],
      "metadata": {
        "id": "PJDk1hQkyBev"
      }
    },
    {
      "cell_type": "markdown",
      "source": [
        "**10. What is the difference between implicit and explicit type casting?**\n",
        "\n",
        "  -> Types of Type Casting:\n",
        "\n",
        "1. Implicit Type Casting (Automatic Conversion)\n",
        "   - Python automatically converts smaller data types to larger ones.  \n",
        "   \n",
        "\n",
        "2. Explicit Type Casting (Manual Conversion)\n",
        "   - Done using built-in functions: `int()`, `float()`, `str()`, `list()`, `tuple()`, etc."
      ],
      "metadata": {
        "id": "Vf6gnmkLy0VP"
      }
    },
    {
      "cell_type": "markdown",
      "source": [
        "**11. What is the purpose of conditional statements in Python?**\n",
        "\n",
        "  -> Conditional statements in Python control the flow of execution by\n",
        "  allowing the program to make decisions based on conditions. They help in executing specific blocks of code only when certain conditions are met.\n",
        "\n",
        "Key Purposes:\n",
        "* Decision Making – Execute different code based on conditions.\n",
        "* Control Program Flow – Skip or repeat code based on logic.\n",
        "* Improve Code Efficiency – Avoid unnecessary computations."
      ],
      "metadata": {
        "id": "FevkvjiDzJF3"
      }
    },
    {
      "cell_type": "markdown",
      "source": [
        "**12. How does the elif statement work?**\n",
        "\n",
        "  -> The elif (short for \"else if\") statement is used when you need multiple conditions to be checked sequentially. It allows checking additional conditions if the first if condition is False.\n",
        "\n",
        "Working of elif:\n",
        "The if condition is checked first.\n",
        "* If if is False, the program moves to elif and checks its condition.\n",
        "* If an elif condition is True, its block executes and the rest are skipped.\n",
        "* If all conditions are False, the else block (if present) executes."
      ],
      "metadata": {
        "id": "8iHo-rsQzibX"
      }
    },
    {
      "cell_type": "markdown",
      "source": [
        "**13. What is the difference between for and while loops?**\n",
        "\n",
        "-> 1. **`for` Loop:**  \n",
        "   - Used when the number of iterations is known.  \n",
        "   - Iterates over a sequence (list, tuple, range, etc.).  \n",
        "   2. **`while` Loop:**  \n",
        "   - Used when the number of iterations is **unknown** and depends on a condition.  \n",
        "   - Runs as long as the condition is `True`.  \n",
        "\n",
        " **Key Difference:**  \n",
        "- Use **`for`** when looping over a sequence.  \n",
        "- Use **`while`** when looping until a condition becomes `False`."
      ],
      "metadata": {
        "id": "TaT2504uz5AM"
      }
    },
    {
      "cell_type": "markdown",
      "source": [
        "**14. Describe a scenario where a while loop is more suitable than a for loop.**\n",
        "\n",
        "  ->  Why while Instead of for?\n",
        "\n",
        "* We don't know how many attempts the user will need.\n",
        "* A for loop runs for a fixed number of iterations, which isn't ideal in this case.\n",
        "* The while loop runs indefinitely until the correct condition is met."
      ],
      "metadata": {
        "id": "Py-F_I_M0rdl"
      }
    },
    {
      "cell_type": "markdown",
      "source": [
        "# Practical Questions"
      ],
      "metadata": {
        "id": "bd-SccOd1NCs"
      }
    },
    {
      "cell_type": "code",
      "source": [
        "# 1. Write a Python program to print \"Hello, World!\".\n",
        "# Code\n",
        "print(\"Hello, World!\")"
      ],
      "metadata": {
        "colab": {
          "base_uri": "https://localhost:8080/"
        },
        "collapsed": true,
        "id": "CtKpUuU_1Q8c",
        "outputId": "b9422ac3-c60e-4084-b6ef-01aa6c77a167"
      },
      "execution_count": 2,
      "outputs": [
        {
          "output_type": "stream",
          "name": "stdout",
          "text": [
            "Hello, World!\n"
          ]
        }
      ]
    },
    {
      "cell_type": "code",
      "source": [
        "# 2. Write a Python program that displays your name and age.\n",
        "# Code\n",
        "name = input(\"Enter your name: \")\n",
        "age = int(input(\"Enter your age: \"))\n",
        "print(f\"Name: {name}\")\n",
        "print(f\"Age: {age}\")"
      ],
      "metadata": {
        "colab": {
          "base_uri": "https://localhost:8080/"
        },
        "collapsed": true,
        "id": "Ab2xPJX51v3L",
        "outputId": "d0007020-ae6d-489c-e4c7-277b8919a6ad"
      },
      "execution_count": 3,
      "outputs": [
        {
          "output_type": "stream",
          "name": "stdout",
          "text": [
            "Enter your name: Chandra Prakash Upadhyay\n",
            "Enter your age: 24\n",
            "Name: Chandra Prakash Upadhyay\n",
            "Age: 24\n"
          ]
        }
      ]
    },
    {
      "cell_type": "code",
      "source": [
        "# 3. Write code to print all the pre-defined keywords in Python using the keyword library.\n",
        "# Code\n",
        "import keyword\n",
        "print(keyword.kwlist)"
      ],
      "metadata": {
        "colab": {
          "base_uri": "https://localhost:8080/"
        },
        "collapsed": true,
        "id": "_4qCMBD02EmE",
        "outputId": "f5392542-9744-4b24-c3ff-211f77f4c027"
      },
      "execution_count": 4,
      "outputs": [
        {
          "output_type": "stream",
          "name": "stdout",
          "text": [
            "['False', 'None', 'True', 'and', 'as', 'assert', 'async', 'await', 'break', 'class', 'continue', 'def', 'del', 'elif', 'else', 'except', 'finally', 'for', 'from', 'global', 'if', 'import', 'in', 'is', 'lambda', 'nonlocal', 'not', 'or', 'pass', 'raise', 'return', 'try', 'while', 'with', 'yield']\n"
          ]
        }
      ]
    },
    {
      "cell_type": "code",
      "source": [
        "# 4. Write a program that checks if a given word is a Python keyword.\n",
        "# Code\n",
        "import keyword\n",
        "word = input(\"Enter a word: \")\n",
        "if keyword.iskeyword(word):\n",
        "    print(f\"{word} is a Python keyword.\")\n",
        "else:\n",
        "    print(f\"{word} is not a Python keyword.\")"
      ],
      "metadata": {
        "colab": {
          "base_uri": "https://localhost:8080/"
        },
        "collapsed": true,
        "id": "6u3-Hhzg2SDG",
        "outputId": "cae500b3-d33b-4846-8c47-88e4085e0ae3"
      },
      "execution_count": 5,
      "outputs": [
        {
          "output_type": "stream",
          "name": "stdout",
          "text": [
            "Enter a word: int\n",
            "int is not a Python keyword.\n"
          ]
        }
      ]
    },
    {
      "cell_type": "code",
      "source": [
        "''' 5. Create a list and tuple in Python, and demonstrate how attempting to change an element works differently\n",
        "for each.'''\n",
        "# Code\n",
        "list_1 = [23,45,6,7]\n",
        "tuple_1 = (23,45,6,7)\n",
        "list_1[0] = 100\n",
        "print(list_1)\n",
        "print(tuple_1) # tuple does not support item change in fixed tuple."
      ],
      "metadata": {
        "colab": {
          "base_uri": "https://localhost:8080/"
        },
        "collapsed": true,
        "id": "aGPw1Mp82p5e",
        "outputId": "6207f7ae-3642-49e8-a31f-9c20a5f452c0"
      },
      "execution_count": 12,
      "outputs": [
        {
          "output_type": "stream",
          "name": "stdout",
          "text": [
            "[100, 45, 6, 7]\n",
            "(23, 45, 6, 7)\n"
          ]
        }
      ]
    },
    {
      "cell_type": "code",
      "source": [
        "# 6. Write a function to demonstrate the behavior of mutable and immutable arguments.\n",
        "# Code\n",
        "def modify_values(num, lst):\n",
        "    num += 10  # Modifying immutable object (int)\n",
        "    lst.append(10)  # Modifying mutable object (list)\n",
        "    print(\"Inside function:\", num, lst)\n",
        "\n",
        "# Immutable argument (int)\n",
        "x = 5\n",
        "# Mutable argument (list)\n",
        "y = [1, 2, 3]\n",
        "\n",
        "print(\"Before function call:\", x, y)\n",
        "modify_values(x, y)\n",
        "print(\"After function call:\", x, y)\n"
      ],
      "metadata": {
        "colab": {
          "base_uri": "https://localhost:8080/"
        },
        "collapsed": true,
        "id": "E7lb82Vw4OYB",
        "outputId": "a81d9334-35d9-475c-b908-303437d2ad0a"
      },
      "execution_count": 20,
      "outputs": [
        {
          "output_type": "stream",
          "name": "stdout",
          "text": [
            "Before function call: 5 [1, 2, 3]\n",
            "Inside function: 15 [1, 2, 3, 10]\n",
            "After function call: 5 [1, 2, 3, 10]\n"
          ]
        }
      ]
    },
    {
      "cell_type": "code",
      "source": [
        "# 7. Write a function to demonstrate the behavior of mutable and immutable arguments.\n",
        "# Code\n",
        "def modify_values(num, lst):\n",
        "    num += 10  # Modifying immutable object (int)\n",
        "    lst.append(10)  # Modifying mutable object (list)\n",
        "    print(\"Inside function:\", num, lst)\n",
        "# Immutable argument (int)\n",
        "x = 5\n",
        "# Mutable argument (list)\n",
        "y = [1, 2, 3]\n",
        "print(\"Before function call:\", x, y)\n",
        "modify_values(x, y)\n",
        "print(\"After function call:\", x, y)\n",
        "\n"
      ],
      "metadata": {
        "colab": {
          "base_uri": "https://localhost:8080/"
        },
        "collapsed": true,
        "id": "VcdaX_Fj5257",
        "outputId": "39eb818e-ffe5-4b85-e4d4-9ec1beee74aa"
      },
      "execution_count": 25,
      "outputs": [
        {
          "output_type": "stream",
          "name": "stdout",
          "text": [
            "Before function call: 5 [1, 2, 3]\n",
            "Inside function: 15 [1, 2, 3, 10]\n",
            "After function call: 5 [1, 2, 3, 10]\n"
          ]
        }
      ]
    },
    {
      "cell_type": "code",
      "source": [
        "# 8. Write a program to demonstrate the use of logical operators.\n",
        "# Code\n",
        "value_1 = (10 == 9)\n",
        "value_2 = (7 > 5)\n",
        "print(value_1 and value_2)\n",
        "print(value_1 or value_2)\n",
        "print(not value_2)"
      ],
      "metadata": {
        "colab": {
          "base_uri": "https://localhost:8080/"
        },
        "collapsed": true,
        "id": "W2TWDKwv6ZbR",
        "outputId": "47b5523a-f9c7-469d-b759-ea0de4f590e6"
      },
      "execution_count": 26,
      "outputs": [
        {
          "output_type": "stream",
          "name": "stdout",
          "text": [
            "False\n",
            "True\n",
            "False\n"
          ]
        }
      ]
    },
    {
      "cell_type": "code",
      "source": [
        "# 9. Write a Python program to convert user input from string to integer, float, and boolean types.\n",
        "# Code\n",
        "user_input = input(\"Enter a value: \")\n",
        "integer_value = int(user_input)\n",
        "float_value = float(user_input)\n",
        "boolean_value = bool(user_input)\n",
        "print(\"Integer Value:\", integer_value)\n",
        "print(\"Float Value:\", float_value)\n",
        "print(\"Boolean Value:\", boolean_value)"
      ],
      "metadata": {
        "colab": {
          "base_uri": "https://localhost:8080/"
        },
        "collapsed": true,
        "id": "B31y2edJ6wss",
        "outputId": "e39fcb30-8e1e-4d88-d26f-60334388d2bb"
      },
      "execution_count": 32,
      "outputs": [
        {
          "output_type": "stream",
          "name": "stdout",
          "text": [
            "Enter a value: 12\n",
            "Integer Value: 12\n",
            "Float Value: 12.0\n",
            "Boolean Value: True\n"
          ]
        }
      ]
    },
    {
      "cell_type": "code",
      "source": [
        "# 10. Write code to demonstrate type casting with list elements.\n",
        "# Code\n",
        "# List with mixed data types\n",
        "my_list = [\"10\", \"20\", \"30\", \"40\"]\n",
        "\n",
        "# Converting string elements to integers\n",
        "int_list = [int(i) for i in my_list]\n",
        "print(\"Integer List:\", int_list)\n",
        "\n",
        "# Converting integer list to float\n",
        "float_list = [float(i) for i in int_list]\n",
        "print(\"Float List:\", float_list)\n",
        "\n",
        "# Converting integer list to string\n",
        "str_list = [str(i) for i in int_list]\n",
        "print(\"String List:\", str_list)\n"
      ],
      "metadata": {
        "colab": {
          "base_uri": "https://localhost:8080/"
        },
        "collapsed": true,
        "id": "6XDP4n0B7k7z",
        "outputId": "7e7df551-59d2-44b2-8912-1c0c076b22ac"
      },
      "execution_count": 36,
      "outputs": [
        {
          "output_type": "stream",
          "name": "stdout",
          "text": [
            "Integer List: [10, 20, 30, 40]\n",
            "Float List: [10.0, 20.0, 30.0, 40.0]\n",
            "String List: ['10', '20', '30', '40']\n"
          ]
        }
      ]
    },
    {
      "cell_type": "code",
      "source": [
        "# 11. Write a program that checks if a number is positive, negative, or zero.\n",
        "# Code\n",
        "num = int(input(\"Enter a number: \"))\n",
        "if num > 0:\n",
        "    print(\"The number is positive.\")\n",
        "elif num < 0:\n",
        "    print(\"The number is negative.\")\n",
        "else:\n",
        "    print(\"The number is zero.\")"
      ],
      "metadata": {
        "colab": {
          "base_uri": "https://localhost:8080/"
        },
        "collapsed": true,
        "id": "1-VYGosy8NCf",
        "outputId": "efa3c501-0149-4339-e882-a9e5dbcfd5cb"
      },
      "execution_count": 37,
      "outputs": [
        {
          "output_type": "stream",
          "name": "stdout",
          "text": [
            "Enter a number: 12\n",
            "The number is positive.\n"
          ]
        }
      ]
    },
    {
      "cell_type": "code",
      "source": [
        "# 12. Write a for loop to print numbers from 1 to 100.\n",
        "# Code\n",
        "for i in range(1, 101):\n",
        "    print(i)"
      ],
      "metadata": {
        "colab": {
          "base_uri": "https://localhost:8080/"
        },
        "collapsed": true,
        "id": "jABu5oXM8m9m",
        "outputId": "a0bfe676-ebbe-476b-d966-0c5a544c368d"
      },
      "execution_count": 38,
      "outputs": [
        {
          "output_type": "stream",
          "name": "stdout",
          "text": [
            "1\n",
            "2\n",
            "3\n",
            "4\n",
            "5\n",
            "6\n",
            "7\n",
            "8\n",
            "9\n",
            "10\n",
            "11\n",
            "12\n",
            "13\n",
            "14\n",
            "15\n",
            "16\n",
            "17\n",
            "18\n",
            "19\n",
            "20\n",
            "21\n",
            "22\n",
            "23\n",
            "24\n",
            "25\n",
            "26\n",
            "27\n",
            "28\n",
            "29\n",
            "30\n",
            "31\n",
            "32\n",
            "33\n",
            "34\n",
            "35\n",
            "36\n",
            "37\n",
            "38\n",
            "39\n",
            "40\n",
            "41\n",
            "42\n",
            "43\n",
            "44\n",
            "45\n",
            "46\n",
            "47\n",
            "48\n",
            "49\n",
            "50\n",
            "51\n",
            "52\n",
            "53\n",
            "54\n",
            "55\n",
            "56\n",
            "57\n",
            "58\n",
            "59\n",
            "60\n",
            "61\n",
            "62\n",
            "63\n",
            "64\n",
            "65\n",
            "66\n",
            "67\n",
            "68\n",
            "69\n",
            "70\n",
            "71\n",
            "72\n",
            "73\n",
            "74\n",
            "75\n",
            "76\n",
            "77\n",
            "78\n",
            "79\n",
            "80\n",
            "81\n",
            "82\n",
            "83\n",
            "84\n",
            "85\n",
            "86\n",
            "87\n",
            "88\n",
            "89\n",
            "90\n",
            "91\n",
            "92\n",
            "93\n",
            "94\n",
            "95\n",
            "96\n",
            "97\n",
            "98\n",
            "99\n",
            "100\n"
          ]
        }
      ]
    },
    {
      "cell_type": "code",
      "source": [
        "# 13. 0 Write a Python program to find the sum of all even numbers between 1 and 50.\n",
        "# Code\n",
        "sum_of_even = 0\n",
        "for i in range(2, 51, 2):\n",
        "    sum_of_even += i\n",
        "print(\"Sum of even numbers between 1 and 50:\", sum_of_even)"
      ],
      "metadata": {
        "colab": {
          "base_uri": "https://localhost:8080/"
        },
        "collapsed": true,
        "id": "Dl8FVqux9JZx",
        "outputId": "1b4a96b1-083b-4158-9c59-48d339c86e42"
      },
      "execution_count": 39,
      "outputs": [
        {
          "output_type": "stream",
          "name": "stdout",
          "text": [
            "Sum of even numbers between 1 and 50: 650\n"
          ]
        }
      ]
    },
    {
      "cell_type": "code",
      "source": [
        "# 14. Write a program to reverse a string using a while loop.\n",
        "# Code\n",
        "string = input(\"Enter a string: \")\n",
        "reversed_string = \"\"\n",
        "index = len(string) - 1\n",
        "while index >= 0:\n",
        "    reversed_string += string[index]\n",
        "    index -= 1\n",
        "print(\"Reversed string:\", reversed_string)\n"
      ],
      "metadata": {
        "colab": {
          "base_uri": "https://localhost:8080/"
        },
        "collapsed": true,
        "id": "10eV-dHc9zh9",
        "outputId": "be2c3933-e01e-41cf-ea16-f73d16b8b5fd"
      },
      "execution_count": 42,
      "outputs": [
        {
          "output_type": "stream",
          "name": "stdout",
          "text": [
            "Enter a string: Chandra\n",
            "Reversed string: ardnahC\n"
          ]
        }
      ]
    },
    {
      "cell_type": "code",
      "source": [
        "# 15. Write a Python program to calculate the factorial of a number provided by the user using a while loop.\n",
        "# Code\n",
        "num = int(input(\"Enter a number: \"))\n",
        "factorial = 1\n",
        "current = 1\n",
        "while current <= num:\n",
        "    factorial *= current\n",
        "    current += 1\n",
        "print(f\"The factorial of {num} is {factorial}\")\n"
      ],
      "metadata": {
        "colab": {
          "base_uri": "https://localhost:8080/"
        },
        "collapsed": true,
        "id": "fLEwjBYt-Ot6",
        "outputId": "09fe6d26-34ab-4cdb-c6f6-d2cbb4f54921"
      },
      "execution_count": 43,
      "outputs": [
        {
          "output_type": "stream",
          "name": "stdout",
          "text": [
            "Enter a number: 25\n",
            "The factorial of 25 is 15511210043330985984000000\n"
          ]
        }
      ]
    }
  ]
}